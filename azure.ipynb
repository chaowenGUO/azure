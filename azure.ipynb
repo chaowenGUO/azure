{
  "cells": [
    {
      "metadata": {
        "trusted": true
      },
      "cell_type": "code",
      "source": "%%javascript\nMathJax.Hub.Config({\n    TeX: { equationNumbers: { autoNumber: \"AMS\" } }\n})",
      "execution_count": 1,
      "outputs": [
        {
          "output_type": "display_data",
          "data": {
            "application/javascript": "MathJax.Hub.Config({\n    TeX: { equationNumbers: { autoNumber: \"AMS\" } }\n})\n",
            "text/plain": "<IPython.core.display.Javascript object>"
          },
          "metadata": {}
        }
      ]
    },
    {
      "metadata": {
        "trusted": true
      },
      "cell_type": "code",
      "source": "%%HTML\n<h1>Dimensional Time Independent Quantum Scattering</h1>\n<ul>\n    <li>Quantum Potential: \n        \\begin{equation*}\n            Q(\\dot{x},\\ddot{x},\\dddot{x})=-\\dfrac{\\hbar^2}{4m}\\left(\\dfrac{5}{2}\\dfrac{\\ddot{x}^2}{\\dot{x}^4}-\\dfrac{\\dddot{x}}{\\dot{x}^3}\\right)\n        \\end{equation*}\n    </li>\n    <li>Lagrangian:\n        \\begin{equation*}\n            L(x,\\dot{x},\\ddot{x},\\ddot{x},\\dddot{x})=\\dfrac{1}{2}m\\dot{x}^2-V(x)-Q(\\dot{x},\\ddot{x},\\dddot{x})\n        \\end{equation*}\n    </li>\n    <li>Least action principle:\n        \\begin{align*}&\n            \\delta\\int Ldt=0\\Rightarrow \\dfrac{\\partial L}{\\partial x}-\\dfrac{d}{dt}\\left(\\dfrac{\\partial L}{\\partial\\dot{x}}\\right)+\\dfrac{d^2}{dt^2}\\left(\\dfrac{\\partial L}{\\partial\\ddot{x}}\\right)-\\dfrac{d^3}{dt^3}\\left(\\dfrac{\\partial L}{\\partial\\dddot{x}}\\right)=0\\\\&\n            \\Rightarrow m\\ddot{x}=-\\dfrac{dV(x)}{dx}-\\dfrac{\\hbar^2}{2m}\\left(5\\dfrac{\\ddot{x}^3}{\\dot{x}^6}-4\\dfrac{\\ddot{x}\\dddot{x}}{\\dot{x}^5}+\\dfrac{1}{2}\\dfrac{\\ddddot{x}}{\\dot{x}^4}\\right)\n        \\end{align*}\n    </li>\n    <li>Hamiltonian:\n        \\begin{equation*}\n            H=\\dfrac{1}{2}m\\dot{x}^2+V(x)+\\dfrac{\\hbar^2}{4m}\\left(\\dfrac{\\dddot{x}}{\\dot{x}^3}-\\dfrac{5}{2}\\dfrac{\\ddot{x}^2}{\\dot{x}^4}\\right)\n        \\end{equation*}\n    </li>\n    <li>Noether Momentum:\n        \\begin{equation*}\n            p=\\dfrac{\\partial L}{\\partial\\dot{x}}-\\dfrac{d}{dt}\\left(\\dfrac{\\partial L}{\\partial\\ddot{x}}\\right)+\\dfrac{d^2}{dt^2}\\left(\\dfrac{\\partial L}{\\partial\\dddot{x}}\\right)=m\\dot{x}+\\dfrac{\\hbar^2}{4m}\\left(\\dfrac{\\dddot{x}}{\\dot{x}^4}-\\dfrac{2\\ddot{x}^2}{\\dot{x}^5}\\right)\n        \\end{equation*}\n    </li>\n</ul>",
      "execution_count": 2,
      "outputs": [
        {
          "output_type": "display_data",
          "data": {
            "text/html": "<h1>Dimensional Time Independent Quantum Scattering</h1>\n<ul>\n    <li>Quantum Potential: \n        \\begin{equation*}\n            Q(\\dot{x},\\ddot{x},\\dddot{x})=-\\dfrac{\\hbar^2}{4m}\\left(\\dfrac{5}{2}\\dfrac{\\ddot{x}^2}{\\dot{x}^4}-\\dfrac{\\dddot{x}}{\\dot{x}^3}\\right)\n        \\end{equation*}\n    </li>\n    <li>Lagrangian:\n        \\begin{equation*}\n            L(x,\\dot{x},\\ddot{x},\\ddot{x},\\dddot{x})=\\dfrac{1}{2}m\\dot{x}^2-V(x)-Q(\\dot{x},\\ddot{x},\\dddot{x})\n        \\end{equation*}\n    </li>\n    <li>Least action principle:\n        \\begin{align*}&\n            \\delta\\int Ldt=0\\Rightarrow \\dfrac{\\partial L}{\\partial x}-\\dfrac{d}{dt}\\left(\\dfrac{\\partial L}{\\partial\\dot{x}}\\right)+\\dfrac{d^2}{dt^2}\\left(\\dfrac{\\partial L}{\\partial\\ddot{x}}\\right)-\\dfrac{d^3}{dt^3}\\left(\\dfrac{\\partial L}{\\partial\\dddot{x}}\\right)=0\\\\&\n            \\Rightarrow m\\ddot{x}=-\\dfrac{dV(x)}{dx}-\\dfrac{\\hbar^2}{2m}\\left(5\\dfrac{\\ddot{x}^3}{\\dot{x}^6}-4\\dfrac{\\ddot{x}\\dddot{x}}{\\dot{x}^5}+\\dfrac{1}{2}\\dfrac{\\ddddot{x}}{\\dot{x}^4}\\right)\n        \\end{align*}\n    </li>\n    <li>Hamiltonian:\n        \\begin{equation*}\n            H=\\dfrac{1}{2}m\\dot{x}^2+V(x)+\\dfrac{\\hbar^2}{4m}\\left(\\dfrac{\\dddot{x}}{\\dot{x}^3}-\\dfrac{5}{2}\\dfrac{\\ddot{x}^2}{\\dot{x}^4}\\right)\n        \\end{equation*}\n    </li>\n    <li>Noether Momentum:\n        \\begin{equation*}\n            p=\\dfrac{\\partial L}{\\partial\\dot{x}}-\\dfrac{d}{dt}\\left(\\dfrac{\\partial L}{\\partial\\ddot{x}}\\right)+\\dfrac{d^2}{dt^2}\\left(\\dfrac{\\partial L}{\\partial\\dddot{x}}\\right)=m\\dot{x}+\\dfrac{\\hbar^2}{4m}\\left(\\dfrac{\\dddot{x}}{\\dot{x}^4}-\\dfrac{2\\ddot{x}^2}{\\dot{x}^5}\\right)\n        \\end{equation*}\n    </li>\n</ul>\n",
            "text/plain": "<IPython.core.display.HTML object>"
          },
          "metadata": {}
        }
      ]
    }
  ],
  "metadata": {
    "kernelspec": {
      "name": "python36",
      "display_name": "Python 3.6",
      "language": "python"
    },
    "language_info": {
      "mimetype": "text/x-python",
      "nbconvert_exporter": "python",
      "name": "python",
      "pygments_lexer": "ipython3",
      "version": "3.6.6",
      "file_extension": ".py",
      "codemirror_mode": {
        "version": 3,
        "name": "ipython"
      }
    }
  },
  "nbformat": 4,
  "nbformat_minor": 2
}